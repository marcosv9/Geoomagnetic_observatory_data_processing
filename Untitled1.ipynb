{
 "cells": [
  {
   "cell_type": "code",
   "execution_count": 1,
   "id": "796bffb3",
   "metadata": {},
   "outputs": [],
   "source": [
    "import pandas as pd\n",
    "import numpy as np\n",
    "import matplotlib.pyplot as plt\n",
    "import dst_realtime_v2 as dst"
   ]
  },
  {
   "cell_type": "code",
   "execution_count": 85,
   "id": "df3125fd",
   "metadata": {},
   "outputs": [],
   "source": [
    "x = pd.DataFrame()"
   ]
  },
  {
   "cell_type": "code",
   "execution_count": 87,
   "id": "fadd3a54",
   "metadata": {},
   "outputs": [
    {
     "data": {
      "text/plain": [
       "True"
      ]
     },
     "execution_count": 87,
     "metadata": {},
     "output_type": "execute_result"
    }
   ],
   "source": [
    "x.empty"
   ]
  },
  {
   "cell_type": "code",
   "execution_count": 119,
   "id": "99164fb2",
   "metadata": {},
   "outputs": [],
   "source": [
    "df = dst.get_realtime_dst('2021-01-01','2022-10-17')"
   ]
  },
  {
   "cell_type": "code",
   "execution_count": 121,
   "id": "b0915eff",
   "metadata": {},
   "outputs": [
    {
     "name": "stderr",
     "output_type": "stream",
     "text": [
      "C:\\Users\\marco\\AppData\\Local\\Temp\\ipykernel_25732\\2223778785.py:1: FutureWarning: Indexing a DataFrame with a datetimelike index using a single string to slice the rows, like `frame[string]`, is deprecated and will be removed in a future version. Use `frame.loc[string]` instead.\n",
      "  df['2021-01-01']\n"
     ]
    },
    {
     "data": {
      "text/html": [
       "<div>\n",
       "<style scoped>\n",
       "    .dataframe tbody tr th:only-of-type {\n",
       "        vertical-align: middle;\n",
       "    }\n",
       "\n",
       "    .dataframe tbody tr th {\n",
       "        vertical-align: top;\n",
       "    }\n",
       "\n",
       "    .dataframe thead th {\n",
       "        text-align: right;\n",
       "    }\n",
       "</style>\n",
       "<table border=\"1\" class=\"dataframe\">\n",
       "  <thead>\n",
       "    <tr style=\"text-align: right;\">\n",
       "      <th></th>\n",
       "      <th>Values</th>\n",
       "      <th>datatype</th>\n",
       "    </tr>\n",
       "    <tr>\n",
       "      <th>Date</th>\n",
       "      <th></th>\n",
       "      <th></th>\n",
       "    </tr>\n",
       "  </thead>\n",
       "  <tbody>\n",
       "    <tr>\n",
       "      <th>2021-01-01 00:00:00</th>\n",
       "      <td>-1.0</td>\n",
       "      <td>P</td>\n",
       "    </tr>\n",
       "    <tr>\n",
       "      <th>2021-01-01 01:00:00</th>\n",
       "      <td>-2.0</td>\n",
       "      <td>P</td>\n",
       "    </tr>\n",
       "    <tr>\n",
       "      <th>2021-01-01 02:00:00</th>\n",
       "      <td>-2.0</td>\n",
       "      <td>P</td>\n",
       "    </tr>\n",
       "    <tr>\n",
       "      <th>2021-01-01 03:00:00</th>\n",
       "      <td>-3.0</td>\n",
       "      <td>P</td>\n",
       "    </tr>\n",
       "    <tr>\n",
       "      <th>2021-01-01 04:00:00</th>\n",
       "      <td>-4.0</td>\n",
       "      <td>P</td>\n",
       "    </tr>\n",
       "    <tr>\n",
       "      <th>2021-01-01 05:00:00</th>\n",
       "      <td>-3.0</td>\n",
       "      <td>P</td>\n",
       "    </tr>\n",
       "    <tr>\n",
       "      <th>2021-01-01 06:00:00</th>\n",
       "      <td>-5.0</td>\n",
       "      <td>P</td>\n",
       "    </tr>\n",
       "    <tr>\n",
       "      <th>2021-01-01 07:00:00</th>\n",
       "      <td>-7.0</td>\n",
       "      <td>P</td>\n",
       "    </tr>\n",
       "    <tr>\n",
       "      <th>2021-01-01 08:00:00</th>\n",
       "      <td>-4.0</td>\n",
       "      <td>P</td>\n",
       "    </tr>\n",
       "    <tr>\n",
       "      <th>2021-01-01 09:00:00</th>\n",
       "      <td>-1.0</td>\n",
       "      <td>P</td>\n",
       "    </tr>\n",
       "    <tr>\n",
       "      <th>2021-01-01 10:00:00</th>\n",
       "      <td>-1.0</td>\n",
       "      <td>P</td>\n",
       "    </tr>\n",
       "    <tr>\n",
       "      <th>2021-01-01 11:00:00</th>\n",
       "      <td>1.0</td>\n",
       "      <td>RT</td>\n",
       "    </tr>\n",
       "    <tr>\n",
       "      <th>2021-01-01 12:00:00</th>\n",
       "      <td>3.0</td>\n",
       "      <td>P</td>\n",
       "    </tr>\n",
       "    <tr>\n",
       "      <th>2021-01-01 13:00:00</th>\n",
       "      <td>4.0</td>\n",
       "      <td>P</td>\n",
       "    </tr>\n",
       "    <tr>\n",
       "      <th>2021-01-01 14:00:00</th>\n",
       "      <td>3.0</td>\n",
       "      <td>P</td>\n",
       "    </tr>\n",
       "    <tr>\n",
       "      <th>2021-01-01 15:00:00</th>\n",
       "      <td>2.0</td>\n",
       "      <td>P</td>\n",
       "    </tr>\n",
       "    <tr>\n",
       "      <th>2021-01-01 16:00:00</th>\n",
       "      <td>1.0</td>\n",
       "      <td>P</td>\n",
       "    </tr>\n",
       "    <tr>\n",
       "      <th>2021-01-01 17:00:00</th>\n",
       "      <td>2.0</td>\n",
       "      <td>P</td>\n",
       "    </tr>\n",
       "    <tr>\n",
       "      <th>2021-01-01 18:00:00</th>\n",
       "      <td>1.0</td>\n",
       "      <td>P</td>\n",
       "    </tr>\n",
       "    <tr>\n",
       "      <th>2021-01-01 19:00:00</th>\n",
       "      <td>2.0</td>\n",
       "      <td>P</td>\n",
       "    </tr>\n",
       "    <tr>\n",
       "      <th>2021-01-01 20:00:00</th>\n",
       "      <td>0.0</td>\n",
       "      <td>P</td>\n",
       "    </tr>\n",
       "    <tr>\n",
       "      <th>2021-01-01 21:00:00</th>\n",
       "      <td>-6.0</td>\n",
       "      <td>P</td>\n",
       "    </tr>\n",
       "    <tr>\n",
       "      <th>2021-01-01 22:00:00</th>\n",
       "      <td>-6.0</td>\n",
       "      <td>P</td>\n",
       "    </tr>\n",
       "    <tr>\n",
       "      <th>2021-01-01 23:00:00</th>\n",
       "      <td>-5.0</td>\n",
       "      <td>P</td>\n",
       "    </tr>\n",
       "  </tbody>\n",
       "</table>\n",
       "</div>"
      ],
      "text/plain": [
       "                     Values datatype\n",
       "Date                                \n",
       "2021-01-01 00:00:00    -1.0        P\n",
       "2021-01-01 01:00:00    -2.0        P\n",
       "2021-01-01 02:00:00    -2.0        P\n",
       "2021-01-01 03:00:00    -3.0        P\n",
       "2021-01-01 04:00:00    -4.0        P\n",
       "2021-01-01 05:00:00    -3.0        P\n",
       "2021-01-01 06:00:00    -5.0        P\n",
       "2021-01-01 07:00:00    -7.0        P\n",
       "2021-01-01 08:00:00    -4.0        P\n",
       "2021-01-01 09:00:00    -1.0        P\n",
       "2021-01-01 10:00:00    -1.0        P\n",
       "2021-01-01 11:00:00     1.0       RT\n",
       "2021-01-01 12:00:00     3.0        P\n",
       "2021-01-01 13:00:00     4.0        P\n",
       "2021-01-01 14:00:00     3.0        P\n",
       "2021-01-01 15:00:00     2.0        P\n",
       "2021-01-01 16:00:00     1.0        P\n",
       "2021-01-01 17:00:00     2.0        P\n",
       "2021-01-01 18:00:00     1.0        P\n",
       "2021-01-01 19:00:00     2.0        P\n",
       "2021-01-01 20:00:00     0.0        P\n",
       "2021-01-01 21:00:00    -6.0        P\n",
       "2021-01-01 22:00:00    -6.0        P\n",
       "2021-01-01 23:00:00    -5.0        P"
      ]
     },
     "execution_count": 121,
     "metadata": {},
     "output_type": "execute_result"
    }
   ],
   "source": [
    "df['2021-01-01']"
   ]
  },
  {
   "cell_type": "code",
   "execution_count": 79,
   "id": "4f1b4e04",
   "metadata": {},
   "outputs": [],
   "source": [
    "starttime = '2010-01-01'\n",
    "endtime = '2015-01-01'"
   ]
  },
  {
   "cell_type": "code",
   "execution_count": 115,
   "id": "f9e46a76",
   "metadata": {},
   "outputs": [
    {
     "data": {
      "text/plain": [
       "'2010-01-01'"
      ]
     },
     "execution_count": 115,
     "metadata": {},
     "output_type": "execute_result"
    }
   ],
   "source": [
    "str(pd.to_datetime('2010-01').date())"
   ]
  },
  {
   "cell_type": "code",
   "execution_count": 84,
   "id": "a332662d",
   "metadata": {},
   "outputs": [],
   "source": [
    "if pd.to_datetime(endtime) < pd.to_datetime(df_datatype['endtime'][0]):\n",
    "    datatype = 'F'\n",
    "elif (pd.to_datetime(endtime) > pd.to_datetime(df_datatype['endtime'][0])) and (pd.to_datetime(endtime) < pd.to_datetime(df_datatype['endtime'][1])):\n",
    "    datatype = 'P'\n",
    "else:\n",
    "    datatype = 'RT'"
   ]
  },
  {
   "cell_type": "code",
   "execution_count": 9,
   "id": "b8524aef",
   "metadata": {},
   "outputs": [],
   "source": [
    "df_datatype = pd.read_csv('dst_yearly_files/datatype_intervals.txt', sep = ',', index_col = 'datatype')"
   ]
  },
  {
   "cell_type": "code",
   "execution_count": 129,
   "id": "1d11e99a",
   "metadata": {},
   "outputs": [
    {
     "data": {
      "text/plain": [
       "'2016-12'"
      ]
     },
     "execution_count": 129,
     "metadata": {},
     "output_type": "execute_result"
    }
   ],
   "source": [
    "df_datatype['endtime'][0]"
   ]
  },
  {
   "cell_type": "code",
   "execution_count": 125,
   "id": "10bc45ff",
   "metadata": {},
   "outputs": [],
   "source": [
    "df2 = df.loc[df_datatype['starttime'][1]:df_datatype['endtime'][1]]"
   ]
  },
  {
   "cell_type": "code",
   "execution_count": 126,
   "id": "50e984a2",
   "metadata": {},
   "outputs": [
    {
     "data": {
      "text/html": [
       "<div>\n",
       "<style scoped>\n",
       "    .dataframe tbody tr th:only-of-type {\n",
       "        vertical-align: middle;\n",
       "    }\n",
       "\n",
       "    .dataframe tbody tr th {\n",
       "        vertical-align: top;\n",
       "    }\n",
       "\n",
       "    .dataframe thead th {\n",
       "        text-align: right;\n",
       "    }\n",
       "</style>\n",
       "<table border=\"1\" class=\"dataframe\">\n",
       "  <thead>\n",
       "    <tr style=\"text-align: right;\">\n",
       "      <th></th>\n",
       "      <th>Values</th>\n",
       "      <th>datatype</th>\n",
       "    </tr>\n",
       "    <tr>\n",
       "      <th>Date</th>\n",
       "      <th></th>\n",
       "      <th></th>\n",
       "    </tr>\n",
       "  </thead>\n",
       "  <tbody>\n",
       "    <tr>\n",
       "      <th>2021-01-01 00:00:00</th>\n",
       "      <td>-1.0</td>\n",
       "      <td>P</td>\n",
       "    </tr>\n",
       "    <tr>\n",
       "      <th>2021-01-01 01:00:00</th>\n",
       "      <td>-2.0</td>\n",
       "      <td>P</td>\n",
       "    </tr>\n",
       "    <tr>\n",
       "      <th>2021-01-01 02:00:00</th>\n",
       "      <td>-2.0</td>\n",
       "      <td>P</td>\n",
       "    </tr>\n",
       "    <tr>\n",
       "      <th>2021-01-01 03:00:00</th>\n",
       "      <td>-3.0</td>\n",
       "      <td>P</td>\n",
       "    </tr>\n",
       "    <tr>\n",
       "      <th>2021-01-01 04:00:00</th>\n",
       "      <td>-4.0</td>\n",
       "      <td>P</td>\n",
       "    </tr>\n",
       "    <tr>\n",
       "      <th>...</th>\n",
       "      <td>...</td>\n",
       "      <td>...</td>\n",
       "    </tr>\n",
       "    <tr>\n",
       "      <th>2021-12-31 19:00:00</th>\n",
       "      <td>7.0</td>\n",
       "      <td>P</td>\n",
       "    </tr>\n",
       "    <tr>\n",
       "      <th>2021-12-31 20:00:00</th>\n",
       "      <td>7.0</td>\n",
       "      <td>P</td>\n",
       "    </tr>\n",
       "    <tr>\n",
       "      <th>2021-12-31 21:00:00</th>\n",
       "      <td>11.0</td>\n",
       "      <td>P</td>\n",
       "    </tr>\n",
       "    <tr>\n",
       "      <th>2021-12-31 22:00:00</th>\n",
       "      <td>8.0</td>\n",
       "      <td>P</td>\n",
       "    </tr>\n",
       "    <tr>\n",
       "      <th>2021-12-31 23:00:00</th>\n",
       "      <td>4.0</td>\n",
       "      <td>P</td>\n",
       "    </tr>\n",
       "  </tbody>\n",
       "</table>\n",
       "<p>8760 rows × 2 columns</p>\n",
       "</div>"
      ],
      "text/plain": [
       "                     Values datatype\n",
       "Date                                \n",
       "2021-01-01 00:00:00    -1.0        P\n",
       "2021-01-01 01:00:00    -2.0        P\n",
       "2021-01-01 02:00:00    -2.0        P\n",
       "2021-01-01 03:00:00    -3.0        P\n",
       "2021-01-01 04:00:00    -4.0        P\n",
       "...                     ...      ...\n",
       "2021-12-31 19:00:00     7.0        P\n",
       "2021-12-31 20:00:00     7.0        P\n",
       "2021-12-31 21:00:00    11.0        P\n",
       "2021-12-31 22:00:00     8.0        P\n",
       "2021-12-31 23:00:00     4.0        P\n",
       "\n",
       "[8760 rows x 2 columns]"
      ]
     },
     "execution_count": 126,
     "metadata": {},
     "output_type": "execute_result"
    }
   ],
   "source": [
    "df2"
   ]
  },
  {
   "cell_type": "code",
   "execution_count": 128,
   "id": "7914b3cb",
   "metadata": {},
   "outputs": [
    {
     "data": {
      "text/html": [
       "<div>\n",
       "<style scoped>\n",
       "    .dataframe tbody tr th:only-of-type {\n",
       "        vertical-align: middle;\n",
       "    }\n",
       "\n",
       "    .dataframe tbody tr th {\n",
       "        vertical-align: top;\n",
       "    }\n",
       "\n",
       "    .dataframe thead th {\n",
       "        text-align: right;\n",
       "    }\n",
       "</style>\n",
       "<table border=\"1\" class=\"dataframe\">\n",
       "  <thead>\n",
       "    <tr style=\"text-align: right;\">\n",
       "      <th></th>\n",
       "      <th>Values</th>\n",
       "      <th>datatype</th>\n",
       "    </tr>\n",
       "    <tr>\n",
       "      <th>Date</th>\n",
       "      <th></th>\n",
       "      <th></th>\n",
       "    </tr>\n",
       "  </thead>\n",
       "  <tbody>\n",
       "    <tr>\n",
       "      <th>2021-01-01 11:00:00</th>\n",
       "      <td>1.0</td>\n",
       "      <td>RT</td>\n",
       "    </tr>\n",
       "  </tbody>\n",
       "</table>\n",
       "</div>"
      ],
      "text/plain": [
       "                     Values datatype\n",
       "Date                                \n",
       "2021-01-01 11:00:00     1.0       RT"
      ]
     },
     "execution_count": 128,
     "metadata": {},
     "output_type": "execute_result"
    }
   ],
   "source": [
    "df2.loc[df2['datatype'] != 'P']"
   ]
  },
  {
   "cell_type": "code",
   "execution_count": 130,
   "id": "14501d55",
   "metadata": {},
   "outputs": [],
   "source": [
    "wrong_dt_dates = []\n",
    "for i in (df2.loc[df2['datatype'] != 'P'].index).date:\n",
    "    wrong_dt_dates += [f'{i.year}-{str(i.month).zfill(2)}']\n",
    "wrong_dt_dates = list(set(wrong_dt_dates))\n",
    "wrong_dt_dates.sort()"
   ]
  },
  {
   "cell_type": "code",
   "execution_count": 138,
   "id": "14be147b",
   "metadata": {},
   "outputs": [],
   "source": [
    "endtime = '2021-02-01'"
   ]
  },
  {
   "cell_type": "code",
   "execution_count": 140,
   "id": "4901f74e",
   "metadata": {},
   "outputs": [
    {
     "data": {
      "text/plain": [
       "['2021-01']"
      ]
     },
     "execution_count": 140,
     "metadata": {},
     "output_type": "execute_result"
    }
   ],
   "source": [
    "wrong_dt_dates"
   ]
  },
  {
   "cell_type": "code",
   "execution_count": 139,
   "id": "b5c5e921",
   "metadata": {},
   "outputs": [],
   "source": [
    "for i in wrong_dt_dates:\n",
    "    if pd.to_datetime(i) not in pd.date_range(starttime,endtime, freq = 'D'):\n",
    "        print('X')"
   ]
  },
  {
   "cell_type": "code",
   "execution_count": 108,
   "id": "b22a0a4c",
   "metadata": {},
   "outputs": [
    {
     "data": {
      "text/plain": [
       "['2017-01',\n",
       " '2017-02',\n",
       " '2017-03',\n",
       " '2017-04',\n",
       " '2017-05',\n",
       " '2017-06',\n",
       " '2017-07',\n",
       " '2017-08',\n",
       " '2017-09',\n",
       " '2017-10',\n",
       " '2017-11',\n",
       " '2017-12',\n",
       " '2018-01',\n",
       " '2018-02',\n",
       " '2018-03',\n",
       " '2018-04',\n",
       " '2018-05',\n",
       " '2018-06',\n",
       " '2018-07',\n",
       " '2018-08',\n",
       " '2018-09',\n",
       " '2018-10',\n",
       " '2018-11',\n",
       " '2018-12',\n",
       " '2019-01',\n",
       " '2019-02',\n",
       " '2019-03',\n",
       " '2019-04',\n",
       " '2019-05',\n",
       " '2019-06',\n",
       " '2019-07',\n",
       " '2019-08',\n",
       " '2019-09',\n",
       " '2019-10',\n",
       " '2019-11',\n",
       " '2019-12']"
      ]
     },
     "execution_count": 108,
     "metadata": {},
     "output_type": "execute_result"
    }
   ],
   "source": [
    "if ((pd.to_datetime(starttime) > pd.to_datetime(df_datatype['endtime'][0]))|\n",
    "    (pd.to_datetime(endtime) < pd.to_datetime(df_datatype['endtime'][1]))):\n",
    "    \n",
    "\n",
    "\n",
    "if (pd.to_datetime(endtime) > pd.to_datetime(df_datatype['endtime'][0])):"
   ]
  },
  {
   "cell_type": "code",
   "execution_count": 60,
   "id": "ce1e160f",
   "metadata": {},
   "outputs": [],
   "source": [
    "df2 = df.loc['2016':'2019']"
   ]
  },
  {
   "cell_type": "code",
   "execution_count": 143,
   "id": "27e483a1",
   "metadata": {},
   "outputs": [
    {
     "data": {
      "text/plain": [
       "[Timestamp('2021-01-01 00:00:00'), Timestamp('2021-05-01 00:00:00')]"
      ]
     },
     "execution_count": 143,
     "metadata": {},
     "output_type": "execute_result"
    }
   ],
   "source": [
    "wrong_datess = [pd.to_datetime('2021-01-01'),pd.to_datetime('2021-05-01')]\n",
    "wrong_datess"
   ]
  },
  {
   "cell_type": "code",
   "execution_count": 151,
   "id": "172bcb82",
   "metadata": {},
   "outputs": [],
   "source": [
    "import datetime\n",
    "today = datetime.datetime.today()\n",
    "datem = datetime.datetime(today.year, today.month, 1)\n",
    "endtime = '2022-09-01'\n",
    "if pd.to_datetime(endtime) >= datem:\n",
    "    print('yes')\n"
   ]
  },
  {
   "cell_type": "code",
   "execution_count": 162,
   "id": "ceb08972",
   "metadata": {},
   "outputs": [],
   "source": [
    "df = pd.read_csv('dst_yearly_files//dst_2022.txt', sep = '\\t', index_col = 0)"
   ]
  },
  {
   "cell_type": "code",
   "execution_count": 165,
   "id": "f5f8ebf5",
   "metadata": {},
   "outputs": [],
   "source": [
    "df['Values'] = df['Values'].replace(9999, np.nan)"
   ]
  },
  {
   "cell_type": "code",
   "execution_count": 168,
   "id": "df88c9d2",
   "metadata": {},
   "outputs": [],
   "source": [
    "import os\n",
    "working_directory = os.getcwd()\n",
    "os.mkdir(os.path.join(working_directory,\n",
    "                              'dst_yearly_files'))"
   ]
  },
  {
   "cell_type": "code",
   "execution_count": 66,
   "id": "f783eec8",
   "metadata": {},
   "outputs": [
    {
     "data": {
      "text/plain": [
       "DatetimeIndex(['2017-01-01 00:00:00', '2017-01-01 01:00:00',\n",
       "               '2017-01-01 02:00:00', '2017-01-01 03:00:00',\n",
       "               '2017-01-01 04:00:00', '2017-01-01 05:00:00',\n",
       "               '2017-01-01 06:00:00', '2017-01-01 07:00:00',\n",
       "               '2017-01-01 08:00:00', '2017-01-01 09:00:00',\n",
       "               ...\n",
       "               '2019-12-31 14:00:00', '2019-12-31 15:00:00',\n",
       "               '2019-12-31 16:00:00', '2019-12-31 17:00:00',\n",
       "               '2019-12-31 18:00:00', '2019-12-31 19:00:00',\n",
       "               '2019-12-31 20:00:00', '2019-12-31 21:00:00',\n",
       "               '2019-12-31 22:00:00', '2019-12-31 23:00:00'],\n",
       "              dtype='datetime64[ns]', name='Date', length=26280, freq=None)"
      ]
     },
     "execution_count": 66,
     "metadata": {},
     "output_type": "execute_result"
    }
   ],
   "source": [
    "df2.loc[df2['datatype'] != 'F'].index"
   ]
  },
  {
   "cell_type": "code",
   "execution_count": 171,
   "id": "7994fe37",
   "metadata": {},
   "outputs": [
    {
     "name": "stdout",
     "output_type": "stream",
     "text": [
      "1\n",
      "2\n",
      "3\n",
      "4\n",
      "5\n",
      "6\n",
      "7\n",
      "8\n",
      "9\n",
      "10\n",
      "11\n",
      "12\n"
     ]
    }
   ],
   "source": [
    "for i in range(1,13):\n",
    "    print(i)"
   ]
  },
  {
   "cell_type": "code",
   "execution_count": null,
   "id": "698a958f",
   "metadata": {},
   "outputs": [],
   "source": []
  }
 ],
 "metadata": {
  "kernelspec": {
   "display_name": "Python 3 (ipykernel)",
   "language": "python",
   "name": "python3"
  },
  "language_info": {
   "codemirror_mode": {
    "name": "ipython",
    "version": 3
   },
   "file_extension": ".py",
   "mimetype": "text/x-python",
   "name": "python",
   "nbconvert_exporter": "python",
   "pygments_lexer": "ipython3",
   "version": "3.9.12"
  }
 },
 "nbformat": 4,
 "nbformat_minor": 5
}
